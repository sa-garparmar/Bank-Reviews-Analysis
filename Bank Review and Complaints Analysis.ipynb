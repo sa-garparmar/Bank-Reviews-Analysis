{
 "cells": [
  {
   "cell_type": "markdown",
   "metadata": {},
   "source": [
    "## Data Precessing"
   ]
  },
  {
   "cell_type": "code",
   "execution_count": 1,
   "metadata": {},
   "outputs": [],
   "source": [
    "import pandas as pd\n",
    "import numpy as np\n",
    "import nltk\n",
    "from nltk.corpus import stopwords"
   ]
  },
  {
   "cell_type": "code",
   "execution_count": 2,
   "metadata": {},
   "outputs": [],
   "source": [
    "bank = pd.read_excel('C:/Users/HP/Downloads/5. Bank Reviews-Complaints Analysis/BankReviews.xlsx')"
   ]
  },
  {
   "cell_type": "code",
   "execution_count": 3,
   "metadata": {},
   "outputs": [
    {
     "data": {
      "text/html": [
       "<div>\n",
       "<style scoped>\n",
       "    .dataframe tbody tr th:only-of-type {\n",
       "        vertical-align: middle;\n",
       "    }\n",
       "\n",
       "    .dataframe tbody tr th {\n",
       "        vertical-align: top;\n",
       "    }\n",
       "\n",
       "    .dataframe thead th {\n",
       "        text-align: right;\n",
       "    }\n",
       "</style>\n",
       "<table border=\"1\" class=\"dataframe\">\n",
       "  <thead>\n",
       "    <tr style=\"text-align: right;\">\n",
       "      <th></th>\n",
       "      <th>Date</th>\n",
       "      <th>Stars</th>\n",
       "      <th>Reviews</th>\n",
       "      <th>BankName</th>\n",
       "    </tr>\n",
       "  </thead>\n",
       "  <tbody>\n",
       "    <tr>\n",
       "      <th>0</th>\n",
       "      <td>2017-04-10</td>\n",
       "      <td>5</td>\n",
       "      <td>Great job, Wyndham Capital! Each person was pr...</td>\n",
       "      <td>Wyndham Capital Mortgage</td>\n",
       "    </tr>\n",
       "    <tr>\n",
       "      <th>1</th>\n",
       "      <td>2017-02-10</td>\n",
       "      <td>5</td>\n",
       "      <td>Matthew Richardson is professional and helpful...</td>\n",
       "      <td>Wyndham Capital Mortgage</td>\n",
       "    </tr>\n",
       "    <tr>\n",
       "      <th>2</th>\n",
       "      <td>2017-08-21</td>\n",
       "      <td>5</td>\n",
       "      <td>We had a past experience with Wyndham Mortgage...</td>\n",
       "      <td>Wyndham Capital Mortgage</td>\n",
       "    </tr>\n",
       "    <tr>\n",
       "      <th>3</th>\n",
       "      <td>2017-12-17</td>\n",
       "      <td>5</td>\n",
       "      <td>We have been dealing with Brad Thomka from the...</td>\n",
       "      <td>Wyndham Capital Mortgage</td>\n",
       "    </tr>\n",
       "    <tr>\n",
       "      <th>4</th>\n",
       "      <td>2016-05-27</td>\n",
       "      <td>5</td>\n",
       "      <td>I can't express how grateful I am for the supp...</td>\n",
       "      <td>Wyndham Capital Mortgage</td>\n",
       "    </tr>\n",
       "  </tbody>\n",
       "</table>\n",
       "</div>"
      ],
      "text/plain": [
       "        Date  Stars                                            Reviews  \\\n",
       "0 2017-04-10      5  Great job, Wyndham Capital! Each person was pr...   \n",
       "1 2017-02-10      5  Matthew Richardson is professional and helpful...   \n",
       "2 2017-08-21      5  We had a past experience with Wyndham Mortgage...   \n",
       "3 2017-12-17      5  We have been dealing with Brad Thomka from the...   \n",
       "4 2016-05-27      5  I can't express how grateful I am for the supp...   \n",
       "\n",
       "                   BankName  \n",
       "0  Wyndham Capital Mortgage  \n",
       "1  Wyndham Capital Mortgage  \n",
       "2  Wyndham Capital Mortgage  \n",
       "3  Wyndham Capital Mortgage  \n",
       "4  Wyndham Capital Mortgage  "
      ]
     },
     "execution_count": 3,
     "metadata": {},
     "output_type": "execute_result"
    }
   ],
   "source": [
    "bank.head()"
   ]
  },
  {
   "cell_type": "code",
   "execution_count": 4,
   "metadata": {},
   "outputs": [
    {
     "data": {
      "text/plain": [
       "Index(['Date', 'Stars', 'Reviews', 'BankName'], dtype='object')"
      ]
     },
     "execution_count": 4,
     "metadata": {},
     "output_type": "execute_result"
    }
   ],
   "source": [
    "bank.columns"
   ]
  },
  {
   "cell_type": "code",
   "execution_count": 5,
   "metadata": {},
   "outputs": [],
   "source": [
    "bank.drop(columns = ['Date' , 'BankName'] , inplace = True)"
   ]
  },
  {
   "cell_type": "code",
   "execution_count": 8,
   "metadata": {},
   "outputs": [],
   "source": [
    "bank['positive'] = np.where(bank.Stars > 3 , 1 , 0)"
   ]
  },
  {
   "cell_type": "code",
   "execution_count": 9,
   "metadata": {},
   "outputs": [],
   "source": [
    "bank['negative'] = np.where(bank.Stars < 3 , 1 , 0)"
   ]
  },
  {
   "cell_type": "code",
   "execution_count": 10,
   "metadata": {},
   "outputs": [],
   "source": [
    "bank['neutral'] = np.where(bank.Stars == 3 , 1 , 0)"
   ]
  },
  {
   "cell_type": "code",
   "execution_count": 11,
   "metadata": {},
   "outputs": [
    {
     "data": {
      "text/html": [
       "<div>\n",
       "<style scoped>\n",
       "    .dataframe tbody tr th:only-of-type {\n",
       "        vertical-align: middle;\n",
       "    }\n",
       "\n",
       "    .dataframe tbody tr th {\n",
       "        vertical-align: top;\n",
       "    }\n",
       "\n",
       "    .dataframe thead th {\n",
       "        text-align: right;\n",
       "    }\n",
       "</style>\n",
       "<table border=\"1\" class=\"dataframe\">\n",
       "  <thead>\n",
       "    <tr style=\"text-align: right;\">\n",
       "      <th></th>\n",
       "      <th>Stars</th>\n",
       "      <th>Reviews</th>\n",
       "      <th>positive</th>\n",
       "      <th>negative</th>\n",
       "      <th>neutral</th>\n",
       "    </tr>\n",
       "  </thead>\n",
       "  <tbody>\n",
       "    <tr>\n",
       "      <th>0</th>\n",
       "      <td>5</td>\n",
       "      <td>Great job, Wyndham Capital! Each person was pr...</td>\n",
       "      <td>1</td>\n",
       "      <td>0</td>\n",
       "      <td>0</td>\n",
       "    </tr>\n",
       "    <tr>\n",
       "      <th>1</th>\n",
       "      <td>5</td>\n",
       "      <td>Matthew Richardson is professional and helpful...</td>\n",
       "      <td>1</td>\n",
       "      <td>0</td>\n",
       "      <td>0</td>\n",
       "    </tr>\n",
       "    <tr>\n",
       "      <th>2</th>\n",
       "      <td>5</td>\n",
       "      <td>We had a past experience with Wyndham Mortgage...</td>\n",
       "      <td>1</td>\n",
       "      <td>0</td>\n",
       "      <td>0</td>\n",
       "    </tr>\n",
       "    <tr>\n",
       "      <th>3</th>\n",
       "      <td>5</td>\n",
       "      <td>We have been dealing with Brad Thomka from the...</td>\n",
       "      <td>1</td>\n",
       "      <td>0</td>\n",
       "      <td>0</td>\n",
       "    </tr>\n",
       "    <tr>\n",
       "      <th>4</th>\n",
       "      <td>5</td>\n",
       "      <td>I can't express how grateful I am for the supp...</td>\n",
       "      <td>1</td>\n",
       "      <td>0</td>\n",
       "      <td>0</td>\n",
       "    </tr>\n",
       "  </tbody>\n",
       "</table>\n",
       "</div>"
      ],
      "text/plain": [
       "   Stars                                            Reviews  positive  \\\n",
       "0      5  Great job, Wyndham Capital! Each person was pr...         1   \n",
       "1      5  Matthew Richardson is professional and helpful...         1   \n",
       "2      5  We had a past experience with Wyndham Mortgage...         1   \n",
       "3      5  We have been dealing with Brad Thomka from the...         1   \n",
       "4      5  I can't express how grateful I am for the supp...         1   \n",
       "\n",
       "   negative  neutral  \n",
       "0         0        0  \n",
       "1         0        0  \n",
       "2         0        0  \n",
       "3         0        0  \n",
       "4         0        0  "
      ]
     },
     "execution_count": 11,
     "metadata": {},
     "output_type": "execute_result"
    }
   ],
   "source": [
    "bank.head()"
   ]
  },
  {
   "cell_type": "code",
   "execution_count": 12,
   "metadata": {},
   "outputs": [
    {
     "data": {
      "text/plain": [
       "(505, 5)"
      ]
     },
     "execution_count": 12,
     "metadata": {},
     "output_type": "execute_result"
    }
   ],
   "source": [
    "bank.shape"
   ]
  },
  {
   "cell_type": "code",
   "execution_count": 13,
   "metadata": {},
   "outputs": [],
   "source": [
    "X = bank.Reviews\n",
    "y = bank.Stars"
   ]
  },
  {
   "cell_type": "code",
   "execution_count": 14,
   "metadata": {},
   "outputs": [
    {
     "data": {
      "text/plain": [
       "0    Great job, Wyndham Capital! Each person was pr...\n",
       "1    Matthew Richardson is professional and helpful...\n",
       "2    We had a past experience with Wyndham Mortgage...\n",
       "3    We have been dealing with Brad Thomka from the...\n",
       "4    I can't express how grateful I am for the supp...\n",
       "Name: Reviews, dtype: object"
      ]
     },
     "execution_count": 14,
     "metadata": {},
     "output_type": "execute_result"
    }
   ],
   "source": [
    "X.head()"
   ]
  },
  {
   "cell_type": "code",
   "execution_count": 15,
   "metadata": {},
   "outputs": [
    {
     "data": {
      "text/plain": [
       "0    5\n",
       "1    5\n",
       "2    5\n",
       "3    5\n",
       "4    5\n",
       "Name: Stars, dtype: int64"
      ]
     },
     "execution_count": 15,
     "metadata": {},
     "output_type": "execute_result"
    }
   ],
   "source": [
    "y.head()"
   ]
  },
  {
   "cell_type": "code",
   "execution_count": 16,
   "metadata": {},
   "outputs": [],
   "source": [
    "# Creating the corpus\n",
    "import re\n",
    "corpus = []\n",
    "for i in range(0, len(X)):\n",
    "    review = re.sub(r'\\W', ' ', str(X[i]))\n",
    "    review = review.lower()\n",
    "    review = re.sub(r'^[a-z]\\s+', '', review)\n",
    "    review = re.sub(r'\\s+', ' ', review)\n",
    "    corpus.append(review)"
   ]
  },
  {
   "cell_type": "code",
   "execution_count": 17,
   "metadata": {},
   "outputs": [
    {
     "data": {
      "text/plain": [
       "'Great job, Wyndham Capital! Each person was professional and helped us move through our refinance process smoothly. Thank you!'"
      ]
     },
     "execution_count": 17,
     "metadata": {},
     "output_type": "execute_result"
    }
   ],
   "source": [
    "X[0]"
   ]
  },
  {
   "cell_type": "code",
   "execution_count": 18,
   "metadata": {},
   "outputs": [
    {
     "data": {
      "text/plain": [
       "'matthew richardson is professional and helpful he helped us find the correct product for our mortgage thank you very much for the excellent service matthew '"
      ]
     },
     "execution_count": 18,
     "metadata": {},
     "output_type": "execute_result"
    }
   ],
   "source": [
    "corpus[1]"
   ]
  },
  {
   "cell_type": "code",
   "execution_count": 19,
   "metadata": {},
   "outputs": [],
   "source": [
    "# Creating the Tf-Idf model\n",
    "from sklearn.feature_extraction.text import TfidfVectorizer\n",
    "vectorizer = TfidfVectorizer(max_features = 2000, min_df = 0.01, max_df = 0.9)\n",
    "X = vectorizer.fit_transform(corpus).toarray()"
   ]
  },
  {
   "cell_type": "code",
   "execution_count": 20,
   "metadata": {},
   "outputs": [
    {
     "data": {
      "text/plain": [
       "(505, 765)"
      ]
     },
     "execution_count": 20,
     "metadata": {},
     "output_type": "execute_result"
    }
   ],
   "source": [
    "X.shape"
   ]
  },
  {
   "cell_type": "code",
   "execution_count": 21,
   "metadata": {},
   "outputs": [],
   "source": [
    "from sklearn.model_selection import train_test_split\n",
    "\n",
    "train_x,test_x,train_y,test_y=train_test_split(X,\n",
    "                                              y,\n",
    "                                              test_size=.3,\n",
    "                                              random_state=42)"
   ]
  },
  {
   "cell_type": "code",
   "execution_count": 22,
   "metadata": {},
   "outputs": [
    {
     "name": "stderr",
     "output_type": "stream",
     "text": [
      "C:\\Users\\HP\\Anaconda3\\lib\\site-packages\\sklearn\\linear_model\\logistic.py:433: FutureWarning: Default solver will be changed to 'lbfgs' in 0.22. Specify a solver to silence this warning.\n",
      "  FutureWarning)\n"
     ]
    },
    {
     "data": {
      "text/plain": [
       "LogisticRegression(C=1.0, class_weight=None, dual=False, fit_intercept=True,\n",
       "          intercept_scaling=1, max_iter=100, multi_class='warn',\n",
       "          n_jobs=None, penalty='l2', random_state=None, solver='warn',\n",
       "          tol=0.0001, verbose=0, warm_start=False)"
      ]
     },
     "execution_count": 22,
     "metadata": {},
     "output_type": "execute_result"
    }
   ],
   "source": [
    "from sklearn.linear_model import LogisticRegression\n",
    "\n",
    "logreg = LogisticRegression()\n",
    "logreg.fit( train_x, train_y )"
   ]
  },
  {
   "cell_type": "code",
   "execution_count": 23,
   "metadata": {},
   "outputs": [
    {
     "name": "stdout",
     "output_type": "stream",
     "text": [
      "train_accuracy:  0.9150141643059491\n",
      "test_accuracy:  0.8552631578947368\n"
     ]
    }
   ],
   "source": [
    "#Evelution of train and test accuracy\n",
    "from sklearn import metrics\n",
    "\n",
    "\n",
    "train_accuracy=metrics.accuracy_score(train_y,logreg.predict(train_x))\n",
    "print('train_accuracy: ',train_accuracy)\n",
    "\n",
    "test_accuracy=metrics.accuracy_score(test_y,logreg.predict(test_x))\n",
    "print('test_accuracy: ',test_accuracy)"
   ]
  },
  {
   "cell_type": "code",
   "execution_count": 24,
   "metadata": {},
   "outputs": [
    {
     "data": {
      "text/plain": [
       "Text(0.5, 15.0, 'Predicted label')"
      ]
     },
     "execution_count": 24,
     "metadata": {},
     "output_type": "execute_result"
    },
    {
     "data": {
      "image/png": "[encoded data removed]",
      "text/plain": [
       "<Figure size 432x288 with 2 Axes>"
      ]
     },
     "metadata": {
      "needs_background": "light"
     },
     "output_type": "display_data"
    }
   ],
   "source": [
    "# Creating a confusion matrix\n",
    "\n",
    "from sklearn import metrics\n",
    "\n",
    "cm = metrics.confusion_matrix(test_y,\n",
    "                            logreg.predict(test_x))\n",
    "cm\n",
    "\n",
    "import matplotlib.pyplot as plt\n",
    "import seaborn as sn\n",
    "%matplotlib inline\n",
    "\n",
    "sn.heatmap(cm, annot=True,  fmt='.2f', xticklabels = [\"1\", \"5\"] , yticklabels = [\"1\", \"5\"] )\n",
    "plt.ylabel('True label')\n",
    "plt.xlabel('Predicted label')"
   ]
  },
  {
   "cell_type": "code",
   "execution_count": 25,
   "metadata": {},
   "outputs": [
    {
     "data": {
      "text/html": [
       "<div>\n",
       "<style scoped>\n",
       "    .dataframe tbody tr th:only-of-type {\n",
       "        vertical-align: middle;\n",
       "    }\n",
       "\n",
       "    .dataframe tbody tr th {\n",
       "        vertical-align: top;\n",
       "    }\n",
       "\n",
       "    .dataframe thead th {\n",
       "        text-align: right;\n",
       "    }\n",
       "</style>\n",
       "<table border=\"1\" class=\"dataframe\">\n",
       "  <thead>\n",
       "    <tr style=\"text-align: right;\">\n",
       "      <th></th>\n",
       "      <th>Stars</th>\n",
       "      <th>Reviews</th>\n",
       "      <th>positive</th>\n",
       "      <th>negative</th>\n",
       "      <th>neutral</th>\n",
       "      <th>predicted_stars</th>\n",
       "    </tr>\n",
       "  </thead>\n",
       "  <tbody>\n",
       "    <tr>\n",
       "      <th>0</th>\n",
       "      <td>5</td>\n",
       "      <td>Great job, Wyndham Capital! Each person was pr...</td>\n",
       "      <td>1</td>\n",
       "      <td>0</td>\n",
       "      <td>0</td>\n",
       "      <td>5</td>\n",
       "    </tr>\n",
       "    <tr>\n",
       "      <th>1</th>\n",
       "      <td>5</td>\n",
       "      <td>Matthew Richardson is professional and helpful...</td>\n",
       "      <td>1</td>\n",
       "      <td>0</td>\n",
       "      <td>0</td>\n",
       "      <td>5</td>\n",
       "    </tr>\n",
       "    <tr>\n",
       "      <th>2</th>\n",
       "      <td>5</td>\n",
       "      <td>We had a past experience with Wyndham Mortgage...</td>\n",
       "      <td>1</td>\n",
       "      <td>0</td>\n",
       "      <td>0</td>\n",
       "      <td>5</td>\n",
       "    </tr>\n",
       "    <tr>\n",
       "      <th>3</th>\n",
       "      <td>5</td>\n",
       "      <td>We have been dealing with Brad Thomka from the...</td>\n",
       "      <td>1</td>\n",
       "      <td>0</td>\n",
       "      <td>0</td>\n",
       "      <td>5</td>\n",
       "    </tr>\n",
       "    <tr>\n",
       "      <th>4</th>\n",
       "      <td>5</td>\n",
       "      <td>I can't express how grateful I am for the supp...</td>\n",
       "      <td>1</td>\n",
       "      <td>0</td>\n",
       "      <td>0</td>\n",
       "      <td>5</td>\n",
       "    </tr>\n",
       "    <tr>\n",
       "      <th>5</th>\n",
       "      <td>5</td>\n",
       "      <td>I had the pleasure of working with Wyndham Cap...</td>\n",
       "      <td>1</td>\n",
       "      <td>0</td>\n",
       "      <td>0</td>\n",
       "      <td>5</td>\n",
       "    </tr>\n",
       "    <tr>\n",
       "      <th>6</th>\n",
       "      <td>5</td>\n",
       "      <td>My experience with Mattison was beyond greatly...</td>\n",
       "      <td>1</td>\n",
       "      <td>0</td>\n",
       "      <td>0</td>\n",
       "      <td>5</td>\n",
       "    </tr>\n",
       "    <tr>\n",
       "      <th>7</th>\n",
       "      <td>5</td>\n",
       "      <td>Patrick answered all my questions by email imm...</td>\n",
       "      <td>1</td>\n",
       "      <td>0</td>\n",
       "      <td>0</td>\n",
       "      <td>5</td>\n",
       "    </tr>\n",
       "    <tr>\n",
       "      <th>8</th>\n",
       "      <td>5</td>\n",
       "      <td>I loved working with this group of people! The...</td>\n",
       "      <td>1</td>\n",
       "      <td>0</td>\n",
       "      <td>0</td>\n",
       "      <td>5</td>\n",
       "    </tr>\n",
       "    <tr>\n",
       "      <th>9</th>\n",
       "      <td>5</td>\n",
       "      <td>Great web interface for both the loan applicat...</td>\n",
       "      <td>1</td>\n",
       "      <td>0</td>\n",
       "      <td>0</td>\n",
       "      <td>5</td>\n",
       "    </tr>\n",
       "    <tr>\n",
       "      <th>10</th>\n",
       "      <td>5</td>\n",
       "      <td>Working with Michelle and Wyndham went really ...</td>\n",
       "      <td>1</td>\n",
       "      <td>0</td>\n",
       "      <td>0</td>\n",
       "      <td>5</td>\n",
       "    </tr>\n",
       "    <tr>\n",
       "      <th>11</th>\n",
       "      <td>5</td>\n",
       "      <td>usten Butler brought the humanity and connecti...</td>\n",
       "      <td>1</td>\n",
       "      <td>0</td>\n",
       "      <td>0</td>\n",
       "      <td>5</td>\n",
       "    </tr>\n",
       "    <tr>\n",
       "      <th>12</th>\n",
       "      <td>5</td>\n",
       "      <td>Jay was easy to get a hold of if I had any que...</td>\n",
       "      <td>1</td>\n",
       "      <td>0</td>\n",
       "      <td>0</td>\n",
       "      <td>5</td>\n",
       "    </tr>\n",
       "    <tr>\n",
       "      <th>13</th>\n",
       "      <td>5</td>\n",
       "      <td>If I had a million Friends I would recommend a...</td>\n",
       "      <td>1</td>\n",
       "      <td>0</td>\n",
       "      <td>0</td>\n",
       "      <td>5</td>\n",
       "    </tr>\n",
       "    <tr>\n",
       "      <th>14</th>\n",
       "      <td>5</td>\n",
       "      <td>Chaz was fantastic throughout the entire lendi...</td>\n",
       "      <td>1</td>\n",
       "      <td>0</td>\n",
       "      <td>0</td>\n",
       "      <td>5</td>\n",
       "    </tr>\n",
       "    <tr>\n",
       "      <th>15</th>\n",
       "      <td>5</td>\n",
       "      <td>Austen has been awsome in every step of the wa...</td>\n",
       "      <td>1</td>\n",
       "      <td>0</td>\n",
       "      <td>0</td>\n",
       "      <td>5</td>\n",
       "    </tr>\n",
       "    <tr>\n",
       "      <th>16</th>\n",
       "      <td>5</td>\n",
       "      <td>The salesperson kept pushing a cash out refi o...</td>\n",
       "      <td>1</td>\n",
       "      <td>0</td>\n",
       "      <td>0</td>\n",
       "      <td>5</td>\n",
       "    </tr>\n",
       "    <tr>\n",
       "      <th>17</th>\n",
       "      <td>1</td>\n",
       "      <td>This was the worst experience ever. It was lik...</td>\n",
       "      <td>0</td>\n",
       "      <td>1</td>\n",
       "      <td>0</td>\n",
       "      <td>1</td>\n",
       "    </tr>\n",
       "    <tr>\n",
       "      <th>18</th>\n",
       "      <td>1</td>\n",
       "      <td>A good rate but a very frustrating process, co...</td>\n",
       "      <td>0</td>\n",
       "      <td>1</td>\n",
       "      <td>0</td>\n",
       "      <td>5</td>\n",
       "    </tr>\n",
       "    <tr>\n",
       "      <th>19</th>\n",
       "      <td>1</td>\n",
       "      <td>They were not upfront. Learn from my mistake.....</td>\n",
       "      <td>0</td>\n",
       "      <td>1</td>\n",
       "      <td>0</td>\n",
       "      <td>5</td>\n",
       "    </tr>\n",
       "    <tr>\n",
       "      <th>20</th>\n",
       "      <td>1</td>\n",
       "      <td>Initially, the Mortgage Broker was very friend...</td>\n",
       "      <td>0</td>\n",
       "      <td>1</td>\n",
       "      <td>0</td>\n",
       "      <td>5</td>\n",
       "    </tr>\n",
       "    <tr>\n",
       "      <th>21</th>\n",
       "      <td>1</td>\n",
       "      <td>Initially, the Mortgage Broker was very friend...</td>\n",
       "      <td>0</td>\n",
       "      <td>1</td>\n",
       "      <td>0</td>\n",
       "      <td>5</td>\n",
       "    </tr>\n",
       "    <tr>\n",
       "      <th>22</th>\n",
       "      <td>5</td>\n",
       "      <td>I worked with Kory and Carla at NASB. They wer...</td>\n",
       "      <td>1</td>\n",
       "      <td>0</td>\n",
       "      <td>0</td>\n",
       "      <td>5</td>\n",
       "    </tr>\n",
       "    <tr>\n",
       "      <th>23</th>\n",
       "      <td>5</td>\n",
       "      <td>Kory was by far the best loan officer I have e...</td>\n",
       "      <td>1</td>\n",
       "      <td>0</td>\n",
       "      <td>0</td>\n",
       "      <td>5</td>\n",
       "    </tr>\n",
       "    <tr>\n",
       "      <th>24</th>\n",
       "      <td>5</td>\n",
       "      <td>Expert loan officer, well versed in VA and the...</td>\n",
       "      <td>1</td>\n",
       "      <td>0</td>\n",
       "      <td>0</td>\n",
       "      <td>5</td>\n",
       "    </tr>\n",
       "  </tbody>\n",
       "</table>\n",
       "</div>"
      ],
      "text/plain": [
       "    Stars                                            Reviews  positive  \\\n",
       "0       5  Great job, Wyndham Capital! Each person was pr...         1   \n",
       "1       5  Matthew Richardson is professional and helpful...         1   \n",
       "2       5  We had a past experience with Wyndham Mortgage...         1   \n",
       "3       5  We have been dealing with Brad Thomka from the...         1   \n",
       "4       5  I can't express how grateful I am for the supp...         1   \n",
       "5       5  I had the pleasure of working with Wyndham Cap...         1   \n",
       "6       5  My experience with Mattison was beyond greatly...         1   \n",
       "7       5  Patrick answered all my questions by email imm...         1   \n",
       "8       5  I loved working with this group of people! The...         1   \n",
       "9       5  Great web interface for both the loan applicat...         1   \n",
       "10      5  Working with Michelle and Wyndham went really ...         1   \n",
       "11      5  usten Butler brought the humanity and connecti...         1   \n",
       "12      5  Jay was easy to get a hold of if I had any que...         1   \n",
       "13      5  If I had a million Friends I would recommend a...         1   \n",
       "14      5  Chaz was fantastic throughout the entire lendi...         1   \n",
       "15      5  Austen has been awsome in every step of the wa...         1   \n",
       "16      5  The salesperson kept pushing a cash out refi o...         1   \n",
       "17      1  This was the worst experience ever. It was lik...         0   \n",
       "18      1  A good rate but a very frustrating process, co...         0   \n",
       "19      1  They were not upfront. Learn from my mistake.....         0   \n",
       "20      1  Initially, the Mortgage Broker was very friend...         0   \n",
       "21      1  Initially, the Mortgage Broker was very friend...         0   \n",
       "22      5  I worked with Kory and Carla at NASB. They wer...         1   \n",
       "23      5  Kory was by far the best loan officer I have e...         1   \n",
       "24      5  Expert loan officer, well versed in VA and the...         1   \n",
       "\n",
       "    negative  neutral  predicted_stars  \n",
       "0          0        0                5  \n",
       "1          0        0                5  \n",
       "2          0        0                5  \n",
       "3          0        0                5  \n",
       "4          0        0                5  \n",
       "5          0        0                5  \n",
       "6          0        0                5  \n",
       "7          0        0                5  \n",
       "8          0        0                5  \n",
       "9          0        0                5  \n",
       "10         0        0                5  \n",
       "11         0        0                5  \n",
       "12         0        0                5  \n",
       "13         0        0                5  \n",
       "14         0        0                5  \n",
       "15         0        0                5  \n",
       "16         0        0                5  \n",
       "17         1        0                1  \n",
       "18         1        0                5  \n",
       "19         1        0                5  \n",
       "20         1        0                5  \n",
       "21         1        0                5  \n",
       "22         0        0                5  \n",
       "23         0        0                5  \n",
       "24         0        0                5  "
      ]
     },
     "execution_count": 25,
     "metadata": {},
     "output_type": "execute_result"
    }
   ],
   "source": [
    "#Concatenating final prediction with original data set(all obersvations):\n",
    "\n",
    "pred_stars=pd.DataFrame(logreg.predict(X),columns=['predicted_stars'])\n",
    "  \n",
    "test = pd.concat([bank, pred_stars], axis=1)\n",
    "\n",
    "test.head(25)"
   ]
  },
  {
   "cell_type": "markdown",
   "metadata": {},
   "source": [
    "## Segmentation"
   ]
  },
  {
   "cell_type": "code",
   "execution_count": 26,
   "metadata": {},
   "outputs": [],
   "source": [
    "from sklearn.cluster import KMeans\n",
    "from sklearn import metrics"
   ]
  },
  {
   "cell_type": "code",
   "execution_count": 27,
   "metadata": {},
   "outputs": [],
   "source": [
    "# Creating a kmeans model\n",
    "\n",
    "model = KMeans(n_clusters=6, \n",
    "               init='k-means++', \n",
    "               max_iter=100, n_init=1,random_state=5)"
   ]
  },
  {
   "cell_type": "code",
   "execution_count": 28,
   "metadata": {},
   "outputs": [
    {
     "data": {
      "text/plain": [
       "KMeans(algorithm='auto', copy_x=True, init='k-means++', max_iter=100,\n",
       "    n_clusters=6, n_init=1, n_jobs=None, precompute_distances='auto',\n",
       "    random_state=5, tol=0.0001, verbose=0)"
      ]
     },
     "execution_count": 28,
     "metadata": {},
     "output_type": "execute_result"
    }
   ],
   "source": [
    "# applying the model on this prepared data\n",
    "\n",
    "res = model.fit(train_x)\n",
    "res"
   ]
  },
  {
   "cell_type": "code",
   "execution_count": 29,
   "metadata": {},
   "outputs": [],
   "source": [
    "# Getting the vocalbulary\n",
    "# Firstly, set of words from the tf-idf itself\n",
    "\n",
    "vocab = vectorizer.get_feature_names()\n",
    "vocab = np.array(vocab)"
   ]
  },
  {
   "cell_type": "code",
   "execution_count": 30,
   "metadata": {},
   "outputs": [
    {
     "data": {
      "text/plain": [
       "array(['10', '100', '12', '25', '30', 'aaron', 'able', 'about', 'above',\n",
       "       'absolutely', 'accept', 'account', 'accurate', 'across', 'actual',\n",
       "       'adam', 'adan', 'additional', 'advice', 'after', 'again', 'agent',\n",
       "       'ago', 'agreed', 'alex', 'all', 'almost', 'along', 'already',\n",
       "       'also', 'always', 'am', 'amazing', 'american', 'amount', 'an',\n",
       "       'and', 'annoyed', 'another', 'answer', 'answered', 'answering',\n",
       "       'answers', 'antebellum', 'anthony', 'any', 'anyone', 'anything',\n",
       "       'application', 'apply', 'appraisal', 'appraiser', 'appreciate',\n",
       "       'appreciated', 'approval', 'approved', 'are', 'around', 'as',\n",
       "       'ask', 'asked', 'asking', 'asset', 'assurance', 'at', 'attention',\n",
       "       'attentive', 'attorney', 'available', 'away', 'awesome', 'back',\n",
       "       'bad', 'bank', 'banker', 'banks', 'barrett', 'based', 'be', 'beat',\n",
       "       'became', 'because', 'been', 'before', 'begin', 'beginning',\n",
       "       'being', 'believe', 'beneficial', 'best', 'better', 'beyond',\n",
       "       'big', 'bob', 'both', 'bought', 'brent', 'broker', 'business',\n",
       "       'but', 'buy', 'buyer', 'buyers', 'buying', 'by', 'ca', 'call',\n",
       "       'called', 'calling', 'calls', 'calm', 'came', 'can', 'cannot',\n",
       "       'capital', 'card', 'care', 'causing', 'certainly', 'challenging',\n",
       "       'change', 'changed', 'changes', 'check', 'choice', 'chose',\n",
       "       'chris', 'circumstances', 'clear', 'clients', 'close', 'closed',\n",
       "       'closing', 'come', 'comfortable', 'commission', 'communicate',\n",
       "       'communicated', 'communication', 'companies', 'company',\n",
       "       'competitive', 'complained', 'complete', 'completed', 'completely',\n",
       "       'complicated', 'comps', 'concerns', 'confident', 'consider',\n",
       "       'constant', 'contact', 'contacted', 'continue', 'contract',\n",
       "       'conventional', 'conversation', 'cost', 'costs', 'could', 'couldn',\n",
       "       'course', 'credit', 'current', 'customer', 'customers', 'daily',\n",
       "       'dallas', 'date', 'day', 'days', 'deal', 'dealing', 'dealt',\n",
       "       'dean', 'decided', 'decision', 'definitely', 'despite', 'detail',\n",
       "       'detailed', 'details', 'did', 'didn', 'difference', 'different',\n",
       "       'difficult', 'disorganized', 'dlj', 'do', 'documentation',\n",
       "       'documents', 'does', 'doing', 'don', 'done', 'down', 'dream',\n",
       "       'due', 'during', 'each', 'earlier', 'easier', 'easily', 'easy',\n",
       "       'effective', 'efficient', 'else', 'email', 'emailed', 'emails',\n",
       "       'encountered', 'end', 'ended', 'enough', 'ensure', 'entire',\n",
       "       'errors', 'escrow', 'especially', 'estimate', 'etc', 'even',\n",
       "       'ever', 'every', 'everyone', 'everything', 'exceeded', 'excellent',\n",
       "       'expect', 'expectations', 'expected', 'experience', 'experienced',\n",
       "       'experiences', 'expertise', 'expired', 'explain', 'explained',\n",
       "       'explaining', 'express', 'extra', 'extremely', 'fact', 'failed',\n",
       "       'family', 'fantastic', 'far', 'fast', 'feel', 'fees', 'felt',\n",
       "       'few', 'final', 'finally', 'financial', 'financing', 'find',\n",
       "       'fine', 'finish', 'first', 'five', 'follow', 'for', 'fortunate',\n",
       "       'forward', 'found', 'fred', 'free', 'friend', 'friendly',\n",
       "       'friends', 'from', 'full', 'fully', 'funded', 'further', 'future',\n",
       "       'gave', 'get', 'getting', 'give', 'given', 'go', 'going', 'good',\n",
       "       'goodlet', 'got', 'great', 'guaranteed', 'guide', 'guy', 'guys',\n",
       "       'had', 'handled', 'happen', 'happened', 'happening', 'happier',\n",
       "       'happy', 'hard', 'has', 'have', 'having', 'he', 'heard', 'heart',\n",
       "       'help', 'helped', 'helpful', 'helping', 'her', 'here', 'high',\n",
       "       'higher', 'highly', 'him', 'his', 'hold', 'home', 'homebuyer',\n",
       "       'homes', 'honest', 'honestly', 'horrible', 'hour', 'hours',\n",
       "       'house', 'houses', 'how', 'however', 'huge', 'hung', 'husband',\n",
       "       'if', 'immediately', 'impressed', 'in', 'including', 'income',\n",
       "       'incredibly', 'industry', 'information', 'informative', 'informed',\n",
       "       'initial', 'institution', 'interest', 'interested', 'into',\n",
       "       'involved', 'is', 'issues', 'it', 'items', 'its', 'jason',\n",
       "       'jeremy', 'job', 'jocovic', 'joey', 'john', 'jon', 'june', 'just',\n",
       "       'keep', 'kept', 'kind', 'knew', 'know', 'knowledge',\n",
       "       'knowledgeable', 'known', 'knows', 'kory', 'last', 'late', 'later',\n",
       "       'least', 'left', 'lender', 'lenders', 'lending', 'less', 'let',\n",
       "       'letter', 'life', 'like', 'list', 'little', 'll', 'loan', 'loans',\n",
       "       'local', 'lock', 'locked', 'long', 'look', 'looking', 'lot', 'low',\n",
       "       'lower', 'made', 'make', 'makes', 'making', 'man', 'manner',\n",
       "       'many', 'market', 'matter', 'may', 'me', 'meet', 'messages', 'met',\n",
       "       'mile', 'military', 'minutes', 'missed', 'mistake', 'money',\n",
       "       'month', 'monthly', 'months', 'more', 'mortgage', 'mortgages',\n",
       "       'most', 'mostly', 'move', 'mr', 'much', 'multiple', 'my', 'myself',\n",
       "       'name', 'nasb', 'necessary', 'need', 'needed', 'needs', 'never',\n",
       "       'new', 'next', 'night', 'no', 'non', 'none', 'north', 'not',\n",
       "       'notary', 'note', 'nothing', 'now', 'number', 'of', 'off', 'offer',\n",
       "       'offered', 'offers', 'officer', 'ok', 'old', 'on', 'once', 'one',\n",
       "       'online', 'only', 'option', 'options', 'or', 'oriented',\n",
       "       'original', 'originally', 'origination', 'other', 'our', 'out',\n",
       "       'over', 'overall', 'pacific', 'paid', 'painless', 'paperwork',\n",
       "       'past', 'patient', 'patiently', 'pay', 'payment', 'payments',\n",
       "       'people', 'person', 'personal', 'personally', 'peter', 'phone',\n",
       "       'pleasant', 'please', 'pleased', 'pleasure', 'point', 'poor',\n",
       "       'positive', 'possible', 'potential', 'pre', 'pretty', 'previous',\n",
       "       'price', 'prior', 'problem', 'problems', 'process', 'product',\n",
       "       'professional', 'professionalism', 'professionally', 'promise',\n",
       "       'promised', 'promises', 'prompt', 'promptly', 'properties',\n",
       "       'property', 'pros', 'provide', 'provided', 'purchase', 'purchased',\n",
       "       'purchasing', 'put', 'question', 'questions', 'quick', 'quickly',\n",
       "       'quite', 'rate', 'rates', 're', 'reach', 'reached', 'read',\n",
       "       'ready', 'real', 'really', 'realtor', 'reason', 'receive',\n",
       "       'received', 'recommend', 'recommended', 'record', 'refi',\n",
       "       'refinance', 'refinanced', 'refinancing', 'regulations',\n",
       "       'reliance', 'rep', 'request', 'requests', 'required', 'respond',\n",
       "       'responded', 'response', 'responses', 'responsive',\n",
       "       'responsiveness', 'results', 'retirement', 'returned', 'review',\n",
       "       'reviews', 'rick', 'right', 'said', 'sale', 'sales', 'same',\n",
       "       'satisfied', 'saved', 'saving', 'savings', 'say', 'saying',\n",
       "       'seamless', 'second', 'see', 'seemed', 'sell', 'selling', 'send',\n",
       "       'sent', 'service', 'services', 'several', 'she', 'should',\n",
       "       'showed', 'side', 'sign', 'simple', 'since', 'situation', 'smooth',\n",
       "       'smoothly', 'so', 'some', 'someone', 'something', 'special',\n",
       "       'specifically', 'spent', 'spoke', 'staff', 'star', 'stars',\n",
       "       'start', 'started', 'state', 'status', 'stayed', 'steer', 'step',\n",
       "       'stephanie', 'steve', 'steven', 'still', 'stressful', 'successful',\n",
       "       'such', 'suggested', 'super', 'support', 'sure', 'surprises',\n",
       "       'sweet', 'system', 'take', 'taken', 'talk', 'talked', 'talking',\n",
       "       'team', 'tell', 'telling', 'terms', 'than', 'thank', 'thanks',\n",
       "       'that', 'the', 'their', 'them', 'then', 'there', 'these', 'they',\n",
       "       'thing', 'things', 'this', 'thorough', 'thoroughly', 'though',\n",
       "       'thought', 'thousands', 'three', 'through', 'throughout', 'thru',\n",
       "       'time', 'timely', 'times', 'to', 'together', 'told', 'tons', 'too',\n",
       "       'took', 'top', 'total', 'touch', 'tough', 'transaction', 'tree',\n",
       "       'tried', 'triumph', 'true', 'truly', 'trust', 'trusted', 'trying',\n",
       "       'twice', 'two', 'types', 'understand', 'understanding',\n",
       "       'understood', 'underwriting', 'unique', 'unless', 'unlike',\n",
       "       'unprofessional', 'until', 'up', 'upon', 'us', 'use', 'used',\n",
       "       'using', 'usually', 'va', 'various', 've', 'versus', 'very',\n",
       "       'veteran', 'via', 'walk', 'walked', 'want', 'wanted', 'was',\n",
       "       'wasn', 'way', 'we', 'website', 'week', 'weekends', 'weeks',\n",
       "       'well', 'went', 'were', 'weren', 'what', 'when', 'where', 'which',\n",
       "       'while', 'who', 'whole', 'why', 'wife', 'will', 'willing', 'with',\n",
       "       'within', 'without', 'wonderful', 'word', 'work', 'worked',\n",
       "       'working', 'works', 'would', 'wouldn', 'wrong', 'wyndham', 'year',\n",
       "       'years', 'yet', 'you', 'your'], dtype='<U15')"
      ]
     },
     "execution_count": 30,
     "metadata": {},
     "output_type": "execute_result"
    }
   ],
   "source": [
    "vocab"
   ]
  },
  {
   "cell_type": "code",
   "execution_count": 31,
   "metadata": {},
   "outputs": [],
   "source": [
    "# Then, the cluster centers from the model fit that we stored on res\n",
    "\n",
    "cluster_centers = np.array(res.cluster_centers_)"
   ]
  },
  {
   "cell_type": "code",
   "execution_count": 32,
   "metadata": {},
   "outputs": [
    {
     "data": {
      "text/plain": [
       "array([393, 268,  53, 361, 360, 746, 473, 357, 405, 582, 198, 690,  95,\n",
       "       188, 453, 206, 148, 624, 119, 375, 334, 671, 220, 408, 572, 702,\n",
       "       638,  52, 498, 355, 174,  69, 124, 236, 127, 347,  18, 102, 364,\n",
       "       637, 603, 414, 583,  70, 212, 175, 341,  24,  91, 135, 735, 391,\n",
       "       162, 274, 751, 618, 691,  55,  74, 701, 374, 716, 721, 589, 601,\n",
       "       567, 693, 524, 387, 562, 494, 237, 509, 646,   2, 530, 452, 667,\n",
       "        16, 507,  23, 434, 329, 612, 696, 704, 134, 277, 203, 532, 167,\n",
       "       718, 333, 179, 644, 640, 714, 437,  77, 156, 390, 105, 523, 436,\n",
       "       676, 275, 622, 556, 485, 683, 207, 689, 291, 432, 699, 298, 626,\n",
       "       265, 698, 526,  41, 758, 101, 155, 461, 475, 384, 484, 398, 149,\n",
       "         1, 307,  42, 204, 694,  65, 738, 137, 565, 533, 481, 321, 293,\n",
       "       418,  14,  87, 558, 641, 322, 518, 633,   8, 535, 350, 537, 430,\n",
       "        93, 122, 241, 470, 456, 500, 276, 295, 571,  43, 496, 151, 292,\n",
       "       133, 121,  51, 506,  62,  54, 499, 464, 363, 152, 486, 230,  66,\n",
       "       182,  76, 611,  79, 757,  88, 510, 180,  32, 214, 197,  12,  28,\n",
       "       269, 235, 385, 326, 248, 379, 272, 703,  26, 164, 254, 664, 650,\n",
       "       297, 631, 487, 323,  17, 118, 369, 617, 705, 110, 531, 614, 668,\n",
       "         3, 643, 495, 327, 707, 517, 373, 628, 283,  37,  84, 177,  61,\n",
       "       665, 344, 587, 604, 313, 670, 173, 129, 266, 219, 368, 422, 339,\n",
       "       697, 424, 647,  10, 639, 719, 311, 420,  40, 136,  63, 218, 147,\n",
       "       519, 446, 748,  96, 279, 256, 396, 415, 700, 114, 142, 417, 504,\n",
       "       458, 602, 176, 511, 336, 544, 353, 331, 116, 632, 561,  22, 267,\n",
       "       460, 576, 139, 332, 154,  49, 685, 488, 730, 588, 117, 539, 144,\n",
       "       193, 216, 260,  68, 328, 217, 755, 750, 490, 493,   9, 145, 128,\n",
       "       663, 255, 660, 192, 407, 728, 252, 619, 166, 234, 441, 263, 482,\n",
       "       187, 522, 684, 466, 630,  44, 125, 563,  94, 720,  67, 673, 449,\n",
       "       428, 419, 552, 711, 658, 201, 262,  92, 345, 244, 686, 508, 222,\n",
       "       547, 513, 651, 377, 476, 536, 542, 376, 515, 564, 627,  11, 400,\n",
       "       238, 569, 648, 592, 463, 171, 423, 126, 553, 570, 600, 308, 548,\n",
       "       471, 616, 483, 554, 578, 194, 213, 301, 232, 342, 505, 573, 744,\n",
       "       120, 315, 366, 629, 186, 306, 410, 678, 606,  86, 314, 440, 474,\n",
       "       402, 692, 178,   0, 596,  27, 310, 546, 575,   4, 181, 113, 108,\n",
       "       211, 389, 380, 666, 559, 372, 416, 527,  75, 250, 325, 299, 115,\n",
       "       386, 161, 431, 153, 296, 661, 445, 448, 574, 579, 300, 605, 245,\n",
       "       290, 761, 409, 240, 620, 713, 635, 202, 568, 411, 239, 586, 282,\n",
       "       205, 199, 319, 613, 516, 459, 581, 621, 425, 521, 388, 439, 146,\n",
       "        85, 346, 287,  57, 150, 304, 111, 491, 625, 501, 309, 359,  48,\n",
       "       550, 580, 557, 141, 512, 743, 228, 340, 159, 349,  20, 421, 591,\n",
       "        39, 284,  15, 243,  13, 502, 249, 356,  72, 442, 351, 270, 615,\n",
       "       540, 258, 123, 503, 520, 231, 246, 229,  21,  59, 100, 406, 397,\n",
       "       224, 138, 642, 725, 549, 143, 753, 688, 281, 468, 259, 607,  47,\n",
       "       634, 278, 541, 221, 367, 103, 191, 566, 215, 610, 371, 450, 316,\n",
       "       189, 760, 242, 710, 687, 749, 489,  80, 674, 286, 555, 623, 412,\n",
       "       324,  33, 584, 740, 712, 157, 529, 681, 732, 257, 362, 525, 337,\n",
       "       109, 715, 709, 599, 759, 682, 429, 454, 443, 172, 762,  60, 593,\n",
       "       729, 742, 271, 585, 210,  34, 478, 168, 383, 444, 253, 209, 433,\n",
       "        29, 679, 285, 195, 404, 185, 590, 469, 597, 754, 752,  38, 382,\n",
       "        82,  90, 636, 169, 560,  97, 196,  50, 462, 378, 722, 358, 741,\n",
       "       695, 184,  71,  30,  83, 104, 302, 401, 723, 247, 233, 348, 225,\n",
       "       107, 261, 106, 395, 200, 745, 330, 131, 394, 455, 208, 158, 545,\n",
       "       528, 497, 370, 160, 726, 609, 170,   6, 708,  56, 594, 227, 492,\n",
       "       226, 251, 733, 163, 399, 577,   5, 654, 223, 467, 480, 764, 312,\n",
       "       534, 289,  19, 447, 472, 645, 365, 112, 680, 669, 183, 288, 739,\n",
       "       165,  31, 717,  89,  35, 706, 656,  45, 318, 657, 343, 608, 736,\n",
       "        81, 335,  46, 477, 190, 381, 677,  98, 317,   7, 403, 130, 438,\n",
       "       731, 598, 551, 649, 763, 672,  78, 352,  64, 595, 479, 320, 543,\n",
       "       305, 280, 655, 737, 727,  73, 734, 514, 538, 140, 273, 132, 303,\n",
       "       294,  25,  99,  58, 427, 662, 426, 659, 354, 747, 264, 756, 465,\n",
       "       413, 392, 338, 451, 652, 435, 724, 457,  36, 675, 653], dtype=int64)"
      ]
     },
     "execution_count": 32,
     "metadata": {},
     "output_type": "execute_result"
    }
   ],
   "source": [
    "res.cluster_centers_[0].argsort()"
   ]
  },
  {
   "cell_type": "code",
   "execution_count": 33,
   "metadata": {},
   "outputs": [],
   "source": [
    "# sorting the cluster centers\n",
    "\n",
    "sorted_vals = [res.cluster_centers_[i].argsort() for i in range(0,np.shape(res.cluster_centers_)[0])]"
   ]
  },
  {
   "cell_type": "code",
   "execution_count": 34,
   "metadata": {},
   "outputs": [
    {
     "name": "stdout",
     "output_type": "stream",
     "text": [
      "{'and', 'the', 'in', 'that', 'not', 'loan', 'of', 'to', 'was', 'my'}\n",
      "{'helpful', 'and', 'very', 'to', 'was', 'customer', 'done', 'he', 'our', 'able'}\n",
      "{'with', 'easy', 'the', 'and', 'service', 'to', 'was', 'work', 'process', 'great'}\n",
      "{'with', 'we', 'the', 'and', 'alex', 'you', 'to', 'was', 'for', 'our'}\n",
      "{'and', 'the', 'we', 'of', 'to', 'was', 'us', 'for', 'he', 'our'}\n",
      "{'with', 'and', 'the', 'on', 'to', 'was', 'my', 'for', 'me', 'he'}\n"
     ]
    }
   ],
   "source": [
    "words=set()\n",
    "for i in range(len(res.cluster_centers_)):\n",
    "    words = set(vocab[sorted_vals[i][-10:]])\n",
    "    print(words)"
   ]
  },
  {
   "cell_type": "code",
   "execution_count": 35,
   "metadata": {},
   "outputs": [],
   "source": [
    "words=list(words)"
   ]
  },
  {
   "cell_type": "code",
   "execution_count": 60,
   "metadata": {},
   "outputs": [
    {
     "data": {
      "text/html": [
       "<div>\n",
       "<style scoped>\n",
       "    .dataframe tbody tr th:only-of-type {\n",
       "        vertical-align: middle;\n",
       "    }\n",
       "\n",
       "    .dataframe tbody tr th {\n",
       "        vertical-align: top;\n",
       "    }\n",
       "\n",
       "    .dataframe thead th {\n",
       "        text-align: right;\n",
       "    }\n",
       "</style>\n",
       "<table border=\"1\" class=\"dataframe\">\n",
       "  <thead>\n",
       "    <tr style=\"text-align: right;\">\n",
       "      <th></th>\n",
       "      <th>Stars</th>\n",
       "      <th>Reviews</th>\n",
       "      <th>positive</th>\n",
       "      <th>negative</th>\n",
       "      <th>neutral</th>\n",
       "    </tr>\n",
       "    <tr>\n",
       "      <th>cluster</th>\n",
       "      <th></th>\n",
       "      <th></th>\n",
       "      <th></th>\n",
       "      <th></th>\n",
       "      <th></th>\n",
       "    </tr>\n",
       "  </thead>\n",
       "  <tbody>\n",
       "    <tr>\n",
       "      <th>0.0</th>\n",
       "      <td>98</td>\n",
       "      <td>98</td>\n",
       "      <td>98</td>\n",
       "      <td>98</td>\n",
       "      <td>98</td>\n",
       "    </tr>\n",
       "    <tr>\n",
       "      <th>1.0</th>\n",
       "      <td>45</td>\n",
       "      <td>45</td>\n",
       "      <td>45</td>\n",
       "      <td>45</td>\n",
       "      <td>45</td>\n",
       "    </tr>\n",
       "    <tr>\n",
       "      <th>2.0</th>\n",
       "      <td>82</td>\n",
       "      <td>82</td>\n",
       "      <td>82</td>\n",
       "      <td>82</td>\n",
       "      <td>82</td>\n",
       "    </tr>\n",
       "    <tr>\n",
       "      <th>3.0</th>\n",
       "      <td>35</td>\n",
       "      <td>35</td>\n",
       "      <td>35</td>\n",
       "      <td>35</td>\n",
       "      <td>35</td>\n",
       "    </tr>\n",
       "    <tr>\n",
       "      <th>4.0</th>\n",
       "      <td>46</td>\n",
       "      <td>46</td>\n",
       "      <td>46</td>\n",
       "      <td>46</td>\n",
       "      <td>46</td>\n",
       "    </tr>\n",
       "    <tr>\n",
       "      <th>5.0</th>\n",
       "      <td>47</td>\n",
       "      <td>47</td>\n",
       "      <td>47</td>\n",
       "      <td>47</td>\n",
       "      <td>47</td>\n",
       "    </tr>\n",
       "  </tbody>\n",
       "</table>\n",
       "</div>"
      ],
      "text/plain": [
       "         Stars  Reviews  positive  negative  neutral\n",
       "cluster                                             \n",
       "0.0         98       98        98        98       98\n",
       "1.0         45       45        45        45       45\n",
       "2.0         82       82        82        82       82\n",
       "3.0         35       35        35        35       35\n",
       "4.0         46       46        46        46       46\n",
       "5.0         47       47        47        47       47"
      ]
     },
     "execution_count": 60,
     "metadata": {},
     "output_type": "execute_result"
    }
   ],
   "source": [
    "# number of observations are in each cluster\n",
    "\n",
    "bank['cluster'] = pd.Series(model.labels_)\n",
    "bank.groupby('cluster').count()"
   ]
  },
  {
   "cell_type": "code",
   "execution_count": 61,
   "metadata": {},
   "outputs": [
    {
     "data": {
      "text/html": [
       "<div>\n",
       "<style scoped>\n",
       "    .dataframe tbody tr th:only-of-type {\n",
       "        vertical-align: middle;\n",
       "    }\n",
       "\n",
       "    .dataframe tbody tr th {\n",
       "        vertical-align: top;\n",
       "    }\n",
       "\n",
       "    .dataframe thead th {\n",
       "        text-align: right;\n",
       "    }\n",
       "</style>\n",
       "<table border=\"1\" class=\"dataframe\">\n",
       "  <thead>\n",
       "    <tr style=\"text-align: right;\">\n",
       "      <th></th>\n",
       "      <th>Stars</th>\n",
       "      <th>positive</th>\n",
       "      <th>negative</th>\n",
       "      <th>neutral</th>\n",
       "    </tr>\n",
       "    <tr>\n",
       "      <th>cluster</th>\n",
       "      <th></th>\n",
       "      <th></th>\n",
       "      <th></th>\n",
       "      <th></th>\n",
       "    </tr>\n",
       "  </thead>\n",
       "  <tbody>\n",
       "    <tr>\n",
       "      <th>0.0</th>\n",
       "      <td>4.183673</td>\n",
       "      <td>0.795918</td>\n",
       "      <td>0.204082</td>\n",
       "      <td>0.0</td>\n",
       "    </tr>\n",
       "    <tr>\n",
       "      <th>1.0</th>\n",
       "      <td>4.644444</td>\n",
       "      <td>0.911111</td>\n",
       "      <td>0.088889</td>\n",
       "      <td>0.0</td>\n",
       "    </tr>\n",
       "    <tr>\n",
       "      <th>2.0</th>\n",
       "      <td>4.317073</td>\n",
       "      <td>0.829268</td>\n",
       "      <td>0.170732</td>\n",
       "      <td>0.0</td>\n",
       "    </tr>\n",
       "    <tr>\n",
       "      <th>3.0</th>\n",
       "      <td>4.200000</td>\n",
       "      <td>0.800000</td>\n",
       "      <td>0.200000</td>\n",
       "      <td>0.0</td>\n",
       "    </tr>\n",
       "    <tr>\n",
       "      <th>4.0</th>\n",
       "      <td>4.391304</td>\n",
       "      <td>0.847826</td>\n",
       "      <td>0.152174</td>\n",
       "      <td>0.0</td>\n",
       "    </tr>\n",
       "    <tr>\n",
       "      <th>5.0</th>\n",
       "      <td>4.319149</td>\n",
       "      <td>0.829787</td>\n",
       "      <td>0.170213</td>\n",
       "      <td>0.0</td>\n",
       "    </tr>\n",
       "  </tbody>\n",
       "</table>\n",
       "</div>"
      ],
      "text/plain": [
       "            Stars  positive  negative  neutral\n",
       "cluster                                       \n",
       "0.0      4.183673  0.795918  0.204082      0.0\n",
       "1.0      4.644444  0.911111  0.088889      0.0\n",
       "2.0      4.317073  0.829268  0.170732      0.0\n",
       "3.0      4.200000  0.800000  0.200000      0.0\n",
       "4.0      4.391304  0.847826  0.152174      0.0\n",
       "5.0      4.319149  0.829787  0.170213      0.0"
      ]
     },
     "execution_count": 61,
     "metadata": {},
     "output_type": "execute_result"
    }
   ],
   "source": [
    "#Looking at the clusters with the help of their mean\n",
    "\n",
    "bank.groupby('cluster').mean()"
   ]
  },
  {
   "cell_type": "markdown",
   "metadata": {},
   "source": [
    "Getting 0 in neutral column because we have zero records where Stars = 3"
   ]
  },
  {
   "cell_type": "code",
   "execution_count": 40,
   "metadata": {},
   "outputs": [],
   "source": [
    "# training a LDA Model\n",
    "\n",
    "from sklearn import decomposition\n",
    "\n",
    "lda_model = decomposition.LatentDirichletAllocation(n_components=10, learning_method='online', max_iter=50)\n",
    "X_topics = lda_model.fit_transform(train_x)\n",
    "topic_word = lda_model.components_ \n",
    "vocab = vectorizer.get_feature_names()"
   ]
  },
  {
   "cell_type": "code",
   "execution_count": 41,
   "metadata": {},
   "outputs": [
    {
     "data": {
      "text/plain": [
       "['previous capital but our accurate reliance really kind appraisal absolutely',\n",
       " 'efficient friendly and the was us professional best date responded',\n",
       " 'and the to was with we he of my very',\n",
       " 'knew adan monthly was and informed my where kory appraisal',\n",
       " 'making the amazing we and our to nasb home with',\n",
       " 'bad the to and them was that they very fast',\n",
       " 'timely and industry dean helpful very the joey they our',\n",
       " 'the and our knowledgeable process were little options too really',\n",
       " 'jeremy local consider non involved usually trusted don knowledge exceeded',\n",
       " 'responsive awesome informative very helpful and surprises guy good no']"
      ]
     },
     "execution_count": 41,
     "metadata": {},
     "output_type": "execute_result"
    }
   ],
   "source": [
    "# viewing the topic models\n",
    "\n",
    "n_top_words = 10\n",
    "topic_summaries = []\n",
    "for i, topic_dist in enumerate(topic_word):\n",
    "    topic_words = np.array(vocab)[np.argsort(topic_dist)][:-(n_top_words+1):-1]\n",
    "    topic_summaries.append(' '.join(topic_words))\n",
    "\n",
    "topic_summaries"
   ]
  }
 ],
 "metadata": {
  "kernelspec": {
   "display_name": "Python 3",
   "language": "python",
   "name": "python3"
  },
  "language_info": {
   "codemirror_mode": {
    "name": "ipython",
    "version": 3
   },
   "file_extension": ".py",
   "mimetype": "text/x-python",
   "name": "python",
   "nbconvert_exporter": "python",
   "pygments_lexer": "ipython3",
   "version": "3.7.3"
  }
 },
 "nbformat": 4,
 "nbformat_minor": 2
}
